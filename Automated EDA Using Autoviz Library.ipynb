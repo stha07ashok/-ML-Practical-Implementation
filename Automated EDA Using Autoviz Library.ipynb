{
 "cells": [
  {
   "cell_type": "code",
   "execution_count": 12,
   "id": "3782d3b0-8cde-4c06-85d8-8e83ee44a0ac",
   "metadata": {},
   "outputs": [
    {
     "name": "stdout",
     "output_type": "stream",
     "text": [
      "Requirement already satisfied: autoviz in /Library/Frameworks/Python.framework/Versions/3.12/lib/python3.12/site-packages (0.1.905)\n",
      "Requirement already satisfied: xlrd in /Library/Frameworks/Python.framework/Versions/3.12/lib/python3.12/site-packages (from autoviz) (2.0.2)\n",
      "Requirement already satisfied: wordcloud in /Library/Frameworks/Python.framework/Versions/3.12/lib/python3.12/site-packages (from autoviz) (1.9.4)\n",
      "Requirement already satisfied: emoji in /Library/Frameworks/Python.framework/Versions/3.12/lib/python3.12/site-packages (from autoviz) (2.14.1)\n",
      "Requirement already satisfied: pyamg in /Library/Frameworks/Python.framework/Versions/3.12/lib/python3.12/site-packages (from autoviz) (5.2.1)\n",
      "Requirement already satisfied: scikit-learn in /Library/Frameworks/Python.framework/Versions/3.12/lib/python3.12/site-packages (from autoviz) (1.7.0)\n",
      "Requirement already satisfied: statsmodels in /Library/Frameworks/Python.framework/Versions/3.12/lib/python3.12/site-packages (from autoviz) (0.14.4)\n",
      "Requirement already satisfied: nltk in /Library/Frameworks/Python.framework/Versions/3.12/lib/python3.12/site-packages (from autoviz) (3.9.1)\n",
      "Requirement already satisfied: textblob in /Library/Frameworks/Python.framework/Versions/3.12/lib/python3.12/site-packages (from autoviz) (0.19.0)\n",
      "Requirement already satisfied: xgboost<1.7,>=0.82 in /Library/Frameworks/Python.framework/Versions/3.12/lib/python3.12/site-packages (from autoviz) (1.6.2)\n",
      "Requirement already satisfied: fsspec>=0.8.3 in /Library/Frameworks/Python.framework/Versions/3.12/lib/python3.12/site-packages (from autoviz) (2025.5.1)\n",
      "Requirement already satisfied: typing-extensions>=4.1.1 in /Library/Frameworks/Python.framework/Versions/3.12/lib/python3.12/site-packages (from autoviz) (4.14.0)\n",
      "Requirement already satisfied: pandas-dq>=1.29 in /Library/Frameworks/Python.framework/Versions/3.12/lib/python3.12/site-packages (from autoviz) (1.29)\n",
      "Requirement already satisfied: numpy>=1.24.0 in /Library/Frameworks/Python.framework/Versions/3.12/lib/python3.12/site-packages (from autoviz) (2.1.3)\n",
      "Requirement already satisfied: hvplot>=0.9.2 in /Library/Frameworks/Python.framework/Versions/3.12/lib/python3.12/site-packages (from autoviz) (0.11.3)\n",
      "Requirement already satisfied: holoviews>=1.16.0 in /Library/Frameworks/Python.framework/Versions/3.12/lib/python3.12/site-packages (from autoviz) (1.20.2)\n",
      "Requirement already satisfied: panel>=1.4.0 in /Library/Frameworks/Python.framework/Versions/3.12/lib/python3.12/site-packages (from autoviz) (1.7.1)\n",
      "Requirement already satisfied: pandas>=2.0 in /Library/Frameworks/Python.framework/Versions/3.12/lib/python3.12/site-packages (from autoviz) (2.3.0)\n",
      "Requirement already satisfied: matplotlib>3.7.4 in /Library/Frameworks/Python.framework/Versions/3.12/lib/python3.12/site-packages (from autoviz) (3.10.0)\n",
      "Requirement already satisfied: seaborn>0.12.2 in /Library/Frameworks/Python.framework/Versions/3.12/lib/python3.12/site-packages (from autoviz) (0.13.2)\n",
      "Requirement already satisfied: scipy in /Library/Frameworks/Python.framework/Versions/3.12/lib/python3.12/site-packages (from xgboost<1.7,>=0.82->autoviz) (1.15.3)\n",
      "Requirement already satisfied: bokeh>=3.1 in /Library/Frameworks/Python.framework/Versions/3.12/lib/python3.12/site-packages (from holoviews>=1.16.0->autoviz) (3.7.3)\n",
      "Requirement already satisfied: colorcet in /Library/Frameworks/Python.framework/Versions/3.12/lib/python3.12/site-packages (from holoviews>=1.16.0->autoviz) (3.1.0)\n",
      "Requirement already satisfied: packaging in /Library/Frameworks/Python.framework/Versions/3.12/lib/python3.12/site-packages (from holoviews>=1.16.0->autoviz) (25.0)\n",
      "Requirement already satisfied: param<3.0,>=2.0 in /Library/Frameworks/Python.framework/Versions/3.12/lib/python3.12/site-packages (from holoviews>=1.16.0->autoviz) (2.2.1)\n",
      "Requirement already satisfied: pyviz-comms>=2.1 in /Library/Frameworks/Python.framework/Versions/3.12/lib/python3.12/site-packages (from holoviews>=1.16.0->autoviz) (3.0.5)\n",
      "Requirement already satisfied: Jinja2>=2.9 in /Library/Frameworks/Python.framework/Versions/3.12/lib/python3.12/site-packages (from bokeh>=3.1->holoviews>=1.16.0->autoviz) (3.1.6)\n",
      "Requirement already satisfied: contourpy>=1.2 in /Library/Frameworks/Python.framework/Versions/3.12/lib/python3.12/site-packages (from bokeh>=3.1->holoviews>=1.16.0->autoviz) (1.3.2)\n",
      "Requirement already satisfied: narwhals>=1.13 in /Library/Frameworks/Python.framework/Versions/3.12/lib/python3.12/site-packages (from bokeh>=3.1->holoviews>=1.16.0->autoviz) (1.42.1)\n",
      "Requirement already satisfied: pillow>=7.1.0 in /Library/Frameworks/Python.framework/Versions/3.12/lib/python3.12/site-packages (from bokeh>=3.1->holoviews>=1.16.0->autoviz) (11.2.1)\n",
      "Requirement already satisfied: PyYAML>=3.10 in /Library/Frameworks/Python.framework/Versions/3.12/lib/python3.12/site-packages (from bokeh>=3.1->holoviews>=1.16.0->autoviz) (6.0.2)\n",
      "Requirement already satisfied: tornado>=6.2 in /Library/Frameworks/Python.framework/Versions/3.12/lib/python3.12/site-packages (from bokeh>=3.1->holoviews>=1.16.0->autoviz) (6.5.1)\n",
      "Requirement already satisfied: xyzservices>=2021.09.1 in /Library/Frameworks/Python.framework/Versions/3.12/lib/python3.12/site-packages (from bokeh>=3.1->holoviews>=1.16.0->autoviz) (2025.4.0)\n",
      "Requirement already satisfied: MarkupSafe>=2.0 in /Library/Frameworks/Python.framework/Versions/3.12/lib/python3.12/site-packages (from Jinja2>=2.9->bokeh>=3.1->holoviews>=1.16.0->autoviz) (2.1.5)\n",
      "Requirement already satisfied: cycler>=0.10 in /Library/Frameworks/Python.framework/Versions/3.12/lib/python3.12/site-packages (from matplotlib>3.7.4->autoviz) (0.12.1)\n",
      "Requirement already satisfied: fonttools>=4.22.0 in /Library/Frameworks/Python.framework/Versions/3.12/lib/python3.12/site-packages (from matplotlib>3.7.4->autoviz) (4.58.4)\n",
      "Requirement already satisfied: kiwisolver>=1.3.1 in /Library/Frameworks/Python.framework/Versions/3.12/lib/python3.12/site-packages (from matplotlib>3.7.4->autoviz) (1.4.8)\n",
      "Requirement already satisfied: pyparsing>=2.3.1 in /Library/Frameworks/Python.framework/Versions/3.12/lib/python3.12/site-packages (from matplotlib>3.7.4->autoviz) (3.2.3)\n",
      "Requirement already satisfied: python-dateutil>=2.7 in /Library/Frameworks/Python.framework/Versions/3.12/lib/python3.12/site-packages (from matplotlib>3.7.4->autoviz) (2.8.2)\n",
      "Requirement already satisfied: pytz>=2020.1 in /Library/Frameworks/Python.framework/Versions/3.12/lib/python3.12/site-packages (from pandas>=2.0->autoviz) (2023.3.post1)\n",
      "Requirement already satisfied: tzdata>=2022.7 in /Library/Frameworks/Python.framework/Versions/3.12/lib/python3.12/site-packages (from pandas>=2.0->autoviz) (2023.3)\n",
      "Requirement already satisfied: bleach in /Library/Frameworks/Python.framework/Versions/3.12/lib/python3.12/site-packages (from panel>=1.4.0->autoviz) (6.2.0)\n",
      "Requirement already satisfied: linkify-it-py in /Library/Frameworks/Python.framework/Versions/3.12/lib/python3.12/site-packages (from panel>=1.4.0->autoviz) (2.0.3)\n",
      "Requirement already satisfied: markdown in /Library/Frameworks/Python.framework/Versions/3.12/lib/python3.12/site-packages (from panel>=1.4.0->autoviz) (3.8.1)\n",
      "Requirement already satisfied: markdown-it-py in /Library/Frameworks/Python.framework/Versions/3.12/lib/python3.12/site-packages (from panel>=1.4.0->autoviz) (3.0.0)\n",
      "Requirement already satisfied: mdit-py-plugins in /Library/Frameworks/Python.framework/Versions/3.12/lib/python3.12/site-packages (from panel>=1.4.0->autoviz) (0.4.2)\n",
      "Requirement already satisfied: requests in /Library/Frameworks/Python.framework/Versions/3.12/lib/python3.12/site-packages (from panel>=1.4.0->autoviz) (2.32.4)\n",
      "Requirement already satisfied: tqdm in /Library/Frameworks/Python.framework/Versions/3.12/lib/python3.12/site-packages (from panel>=1.4.0->autoviz) (4.67.1)\n",
      "Requirement already satisfied: six>=1.5 in /Library/Frameworks/Python.framework/Versions/3.12/lib/python3.12/site-packages (from python-dateutil>=2.7->matplotlib>3.7.4->autoviz) (1.16.0)\n",
      "Collecting joblib>=1.2.0 (from scikit-learn->autoviz)\n",
      "  Downloading joblib-1.5.1-py3-none-any.whl.metadata (5.6 kB)\n",
      "Requirement already satisfied: threadpoolctl>=3.1.0 in /Library/Frameworks/Python.framework/Versions/3.12/lib/python3.12/site-packages (from scikit-learn->autoviz) (3.6.0)\n",
      "Requirement already satisfied: webencodings in /Library/Frameworks/Python.framework/Versions/3.12/lib/python3.12/site-packages (from bleach->panel>=1.4.0->autoviz) (0.5.1)\n",
      "Requirement already satisfied: uc-micro-py in /Library/Frameworks/Python.framework/Versions/3.12/lib/python3.12/site-packages (from linkify-it-py->panel>=1.4.0->autoviz) (1.0.3)\n",
      "Requirement already satisfied: mdurl~=0.1 in /Library/Frameworks/Python.framework/Versions/3.12/lib/python3.12/site-packages (from markdown-it-py->panel>=1.4.0->autoviz) (0.1.2)\n",
      "Requirement already satisfied: click in /Library/Frameworks/Python.framework/Versions/3.12/lib/python3.12/site-packages (from nltk->autoviz) (8.2.1)\n",
      "Requirement already satisfied: regex>=2021.8.3 in /Library/Frameworks/Python.framework/Versions/3.12/lib/python3.12/site-packages (from nltk->autoviz) (2024.11.6)\n",
      "Requirement already satisfied: charset_normalizer<4,>=2 in /Library/Frameworks/Python.framework/Versions/3.12/lib/python3.12/site-packages (from requests->panel>=1.4.0->autoviz) (3.4.2)\n",
      "Requirement already satisfied: idna<4,>=2.5 in /Library/Frameworks/Python.framework/Versions/3.12/lib/python3.12/site-packages (from requests->panel>=1.4.0->autoviz) (3.10)\n",
      "Requirement already satisfied: urllib3<3,>=1.21.1 in /Library/Frameworks/Python.framework/Versions/3.12/lib/python3.12/site-packages (from requests->panel>=1.4.0->autoviz) (2.5.0)\n",
      "Requirement already satisfied: certifi>=2017.4.17 in /Library/Frameworks/Python.framework/Versions/3.12/lib/python3.12/site-packages (from requests->panel>=1.4.0->autoviz) (2025.6.15)\n",
      "Requirement already satisfied: patsy>=0.5.6 in /Library/Frameworks/Python.framework/Versions/3.12/lib/python3.12/site-packages (from statsmodels->autoviz) (1.0.1)\n",
      "Downloading joblib-1.5.1-py3-none-any.whl (307 kB)\n",
      "Installing collected packages: joblib\n",
      "Successfully installed joblib-1.5.1\n"
     ]
    }
   ],
   "source": [
    "!pip install autoviz"
   ]
  },
  {
   "cell_type": "code",
   "execution_count": 13,
   "id": "1a1526b9-d944-4406-a9d9-1df4cd661b9d",
   "metadata": {},
   "outputs": [],
   "source": [
    "import seaborn as sns\n"
   ]
  },
  {
   "cell_type": "code",
   "execution_count": 14,
   "id": "5787180a-9603-4ead-9589-9bf14e9e2078",
   "metadata": {},
   "outputs": [],
   "source": [
    "df= sns.load_dataset('tips')"
   ]
  },
  {
   "cell_type": "code",
   "execution_count": 15,
   "id": "957260cf-9ede-407c-8c86-a67ac853ab15",
   "metadata": {},
   "outputs": [
    {
     "data": {
      "text/html": [
       "<div>\n",
       "<style scoped>\n",
       "    .dataframe tbody tr th:only-of-type {\n",
       "        vertical-align: middle;\n",
       "    }\n",
       "\n",
       "    .dataframe tbody tr th {\n",
       "        vertical-align: top;\n",
       "    }\n",
       "\n",
       "    .dataframe thead th {\n",
       "        text-align: right;\n",
       "    }\n",
       "</style>\n",
       "<table border=\"1\" class=\"dataframe\">\n",
       "  <thead>\n",
       "    <tr style=\"text-align: right;\">\n",
       "      <th></th>\n",
       "      <th>total_bill</th>\n",
       "      <th>tip</th>\n",
       "      <th>sex</th>\n",
       "      <th>smoker</th>\n",
       "      <th>day</th>\n",
       "      <th>time</th>\n",
       "      <th>size</th>\n",
       "    </tr>\n",
       "  </thead>\n",
       "  <tbody>\n",
       "    <tr>\n",
       "      <th>0</th>\n",
       "      <td>16.99</td>\n",
       "      <td>1.01</td>\n",
       "      <td>Female</td>\n",
       "      <td>No</td>\n",
       "      <td>Sun</td>\n",
       "      <td>Dinner</td>\n",
       "      <td>2</td>\n",
       "    </tr>\n",
       "    <tr>\n",
       "      <th>1</th>\n",
       "      <td>10.34</td>\n",
       "      <td>1.66</td>\n",
       "      <td>Male</td>\n",
       "      <td>No</td>\n",
       "      <td>Sun</td>\n",
       "      <td>Dinner</td>\n",
       "      <td>3</td>\n",
       "    </tr>\n",
       "    <tr>\n",
       "      <th>2</th>\n",
       "      <td>21.01</td>\n",
       "      <td>3.50</td>\n",
       "      <td>Male</td>\n",
       "      <td>No</td>\n",
       "      <td>Sun</td>\n",
       "      <td>Dinner</td>\n",
       "      <td>3</td>\n",
       "    </tr>\n",
       "    <tr>\n",
       "      <th>3</th>\n",
       "      <td>23.68</td>\n",
       "      <td>3.31</td>\n",
       "      <td>Male</td>\n",
       "      <td>No</td>\n",
       "      <td>Sun</td>\n",
       "      <td>Dinner</td>\n",
       "      <td>2</td>\n",
       "    </tr>\n",
       "    <tr>\n",
       "      <th>4</th>\n",
       "      <td>24.59</td>\n",
       "      <td>3.61</td>\n",
       "      <td>Female</td>\n",
       "      <td>No</td>\n",
       "      <td>Sun</td>\n",
       "      <td>Dinner</td>\n",
       "      <td>4</td>\n",
       "    </tr>\n",
       "  </tbody>\n",
       "</table>\n",
       "</div>"
      ],
      "text/plain": [
       "   total_bill   tip     sex smoker  day    time  size\n",
       "0       16.99  1.01  Female     No  Sun  Dinner     2\n",
       "1       10.34  1.66    Male     No  Sun  Dinner     3\n",
       "2       21.01  3.50    Male     No  Sun  Dinner     3\n",
       "3       23.68  3.31    Male     No  Sun  Dinner     2\n",
       "4       24.59  3.61  Female     No  Sun  Dinner     4"
      ]
     },
     "execution_count": 15,
     "metadata": {},
     "output_type": "execute_result"
    }
   ],
   "source": [
    "df.head()"
   ]
  },
  {
   "cell_type": "code",
   "execution_count": 16,
   "id": "f8cde48e-cf4f-427b-96f2-efbc7b1fd596",
   "metadata": {},
   "outputs": [],
   "source": [
    "df.to_csv('tips.csv')"
   ]
  },
  {
   "cell_type": "code",
   "execution_count": 19,
   "id": "3d6adee9-8721-4226-b213-4064eb84014f",
   "metadata": {},
   "outputs": [
    {
     "ename": "ModuleNotFoundError",
     "evalue": "No module named 'autoviz'",
     "output_type": "error",
     "traceback": [
      "\u001b[0;31m---------------------------------------------------------------------------\u001b[0m",
      "\u001b[0;31mModuleNotFoundError\u001b[0m                       Traceback (most recent call last)",
      "Cell \u001b[0;32mIn[19], line 1\u001b[0m\n\u001b[0;32m----> 1\u001b[0m \u001b[38;5;28;01mfrom\u001b[39;00m \u001b[38;5;21;01mautoviz\u001b[39;00m\u001b[38;5;21;01m.\u001b[39;00m\u001b[38;5;21;01mAutoViz_Class\u001b[39;00m \u001b[38;5;28;01mimport\u001b[39;00m AutoViz_Class\n",
      "\u001b[0;31mModuleNotFoundError\u001b[0m: No module named 'autoviz'"
     ]
    }
   ],
   "source": [
    "from autoviz.AutoViz_Class import AutoViz_Class"
   ]
  },
  {
   "cell_type": "code",
   "execution_count": 20,
   "id": "114189bd-27e3-44f3-83a4-5c22c2ca6fc1",
   "metadata": {},
   "outputs": [
    {
     "ename": "NameError",
     "evalue": "name 'AutoViz_Class' is not defined",
     "output_type": "error",
     "traceback": [
      "\u001b[0;31m---------------------------------------------------------------------------\u001b[0m",
      "\u001b[0;31mNameError\u001b[0m                                 Traceback (most recent call last)",
      "Cell \u001b[0;32mIn[20], line 1\u001b[0m\n\u001b[0;32m----> 1\u001b[0m AV \u001b[38;5;241m=\u001b[39m \u001b[43mAutoViz_Class\u001b[49m()\n",
      "\u001b[0;31mNameError\u001b[0m: name 'AutoViz_Class' is not defined"
     ]
    }
   ],
   "source": [
    "AV = AutoViz_Class()"
   ]
  },
  {
   "cell_type": "code",
   "execution_count": 22,
   "id": "f7976991-32ad-421f-b9e8-af5762c68c74",
   "metadata": {},
   "outputs": [
    {
     "ename": "NameError",
     "evalue": "name 'AV' is not defined",
     "output_type": "error",
     "traceback": [
      "\u001b[0;31m---------------------------------------------------------------------------\u001b[0m",
      "\u001b[0;31mNameError\u001b[0m                                 Traceback (most recent call last)",
      "Cell \u001b[0;32mIn[22], line 5\u001b[0m\n\u001b[1;32m      3\u001b[0m filename \u001b[38;5;241m=\u001b[39m \u001b[38;5;124m'\u001b[39m\u001b[38;5;124msimple_data/california_housing_train.csv\u001b[39m\u001b[38;5;124m'\u001b[39m\n\u001b[1;32m      4\u001b[0m sep\u001b[38;5;241m=\u001b[39m\u001b[38;5;124m\"\u001b[39m\u001b[38;5;124m,\u001b[39m\u001b[38;5;124m\"\u001b[39m\n\u001b[0;32m----> 5\u001b[0m dft\u001b[38;5;241m=\u001b[39m\u001b[43mAV\u001b[49m\u001b[38;5;241m.\u001b[39mAutoViz(filename)\n",
      "\u001b[0;31mNameError\u001b[0m: name 'AV' is not defined"
     ]
    }
   ],
   "source": [
    "import matplotlib.pyplot as plt\n",
    "%matplotlib inline\n",
    "filename = 'simple_data/california_housing_train.csv'\n",
    "sep=\",\"\n",
    "dft=AV.AutoViz(filename)"
   ]
  },
  {
   "cell_type": "code",
   "execution_count": null,
   "id": "32b98fb5-223c-4ddb-8183-430e8c82f903",
   "metadata": {},
   "outputs": [],
   "source": []
  }
 ],
 "metadata": {
  "kernelspec": {
   "display_name": "Python 3 (ipykernel)",
   "language": "python",
   "name": "python3"
  },
  "language_info": {
   "codemirror_mode": {
    "name": "ipython",
    "version": 3
   },
   "file_extension": ".py",
   "mimetype": "text/x-python",
   "name": "python",
   "nbconvert_exporter": "python",
   "pygments_lexer": "ipython3",
   "version": "3.12.0"
  }
 },
 "nbformat": 4,
 "nbformat_minor": 5
}
